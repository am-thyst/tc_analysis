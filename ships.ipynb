{
 "cells": [
  {
   "cell_type": "code",
   "execution_count": 187,
   "metadata": {},
   "outputs": [],
   "source": [
    "import numpy as np\n",
    "from datetime import datetime, timedelta\n",
    "import pandas as pd\n",
    "fn = \"C:/Users/User/Documents/Leeds/lsdiaga_1982_2021_sat_ts_5day.txt\"\n",
    "ln = 725997"
   ]
  },
  {
   "cell_type": "code",
   "execution_count": 188,
   "metadata": {},
   "outputs": [
    {
     "name": "stdout",
     "output_type": "stream",
     "text": [
      "NULL\n",
      "AL012000\n",
      "AL022000\n",
      "AL032000\n"
     ]
    }
   ],
   "source": [
    "line_numbers = np.arange(725997,ln+(139*100)) ## I just picked an arbitrary range of line numbers because I didn't want to\n",
    "                                              ## do the whole dataset   \n",
    "\n",
    "\n",
    "storms = []\n",
    "storm_name = \"NULL\"\n",
    "\n",
    "\n",
    "with open(fn, 'r') as fp:\n",
    "    for i, line in enumerate(fp):\n",
    "        # read lines\n",
    "        if i in line_numbers:\n",
    "            lines.append(line.strip())\n",
    "            if \"HEAD\" in line.strip():\n",
    "                head_nums.append(i) \n",
    "                if storm_name == line[39:55].strip():\n",
    "                    pass\n",
    "                else:\n",
    "                    print(storm_name)\n",
    "                    if storm_name == \"NULL\":\n",
    "                        pass\n",
    "                    else:\n",
    "                        data = np.transpose(np.stack([dates,shear_speed,shear_dir]))\n",
    "                        df = pd.DataFrame(data,\n",
    "                                            columns=[\"Date\",\"Shear speed (m/s)\",\"Shear direction (deg)\"],\n",
    "                                         ).to_csv(storm_name+\".csv\",index = False)\n",
    "                    \n",
    "                    storm_name = line[39:55].strip(); storms.append(storm_name)\n",
    "                    shear_speed, shear_dir, dates = [], [], []\n",
    "                \n",
    "                ## ADD THE DATE\n",
    "                date_string = line.strip().split()[1] + line.strip().split()[2]\n",
    "                time = datetime.strptime(date_string, \"%y%m%d%H\")\n",
    "                dates.append(time)\n",
    "            \n",
    "            ## VARIABLES YOU WANT TO EXTRACT\n",
    "            if \"SDDC\" in line.strip():\n",
    "                shear_speed.append((float(line.strip().split()[0]) / 10) / 1.944) # T + 0 is column 0\n",
    "            elif \"SHGC\" in line.strip():\n",
    "                shear_dir.append(float(line.strip().split()[0])) # T + 0 is column 0\n",
    "                \n",
    "        elif i > line_numbers[-1]: ## stop when you reach the last line number, you can remove this line to do whole dataset\n",
    "            break"
   ]
  },
  {
   "cell_type": "markdown",
   "metadata": {},
   "source": [
    "### Each storm now has its own .csv file "
   ]
  },
  {
   "cell_type": "code",
   "execution_count": 219,
   "metadata": {},
   "outputs": [
    {
     "name": "stdout",
     "output_type": "stream",
     "text": [
      "['AL012000', 'AL022000', 'AL032000']\n",
      "                  Date  Shear speed (m/s)  Shear direction (deg)\n",
      "0  2000-06-07 18:00:00           4.732510                  248.0\n",
      "1  2000-06-08 00:00:00           4.269547                  248.0\n",
      "2  2000-06-08 06:00:00           4.681070                  260.0\n",
      "3  2000-06-08 12:00:00           5.658436                  271.0\n",
      "                   Date  Shear speed (m/s)  Shear direction (deg)\n",
      "0   2000-06-23 00:00:00          13.837449                  482.0\n",
      "1   2000-06-23 06:00:00          14.248971                  478.0\n",
      "2   2000-06-23 12:00:00          14.557613                  457.0\n",
      "3   2000-06-23 18:00:00          14.506173                  260.0\n",
      "4   2000-06-24 00:00:00          14.506173                  230.0\n",
      "5   2000-06-24 06:00:00          14.969136                  231.0\n",
      "6   2000-06-24 12:00:00          15.020576                  177.0\n",
      "7   2000-06-24 18:00:00          14.763374                  189.0\n",
      "8   2000-06-25 00:00:00          15.483539                  102.0\n",
      "9   2000-06-25 06:00:00           3.292181                  150.0\n",
      "10  2000-06-25 12:00:00           3.703704                  189.0\n",
      "11  2000-06-25 18:00:00           4.938272                  179.0\n",
      "                   Date  Shear speed (m/s)  Shear direction (deg)\n",
      "0   2000-08-03 18:00:00          13.425926                  403.0\n",
      "1   2000-08-04 00:00:00          14.197531                  401.0\n",
      "2   2000-08-04 06:00:00          13.117284                  367.0\n",
      "3   2000-08-04 12:00:00          12.911523                  291.0\n",
      "4   2000-08-04 18:00:00          12.602881                  283.0\n",
      "..                  ...                ...                    ...\n",
      "74  2000-08-22 06:00:00           3.137860                  167.0\n",
      "75  2000-08-22 12:00:00           3.137860                  220.0\n",
      "76  2000-08-22 18:00:00           3.806584                  240.0\n",
      "77  2000-08-23 00:00:00           3.600823                  222.0\n",
      "78  2000-08-23 06:00:00           2.211934                  301.0\n",
      "\n",
      "[79 rows x 3 columns]\n"
     ]
    }
   ],
   "source": [
    "print(storms[:-1])\n",
    "\n",
    "for storm in storms[:-1]:\n",
    "    data = pd.read_csv(storm+\".csv\")\n",
    "    print(data)"
   ]
  },
  {
   "cell_type": "markdown",
   "metadata": {},
   "source": [
    "### Plot the data "
   ]
  },
  {
   "cell_type": "code",
   "execution_count": 212,
   "metadata": {},
   "outputs": [
    {
     "data": {
      "image/png": "[encoded data removed]",
      "text/plain": [
       "<Figure size 432x288 with 2 Axes>"
      ]
     },
     "metadata": {
      "needs_background": "light"
     },
     "output_type": "display_data"
    }
   ],
   "source": [
    "import matplotlib.pyplot as plt\n",
    "\n",
    "fig, (ax1,ax2) = plt.subplots(1,2)\n",
    "\n",
    "ax1.plot(data['Date'],data['Shear speed (m/s)'])\n",
    "ax1.set_title(\"Shear speed (m/s)\")\n",
    "\n",
    "ax2.plot(data['Date'],data['Shear direction (deg)'])\n",
    "ax2.set_title(\"Shear direction (deg)\")\n",
    "\n",
    "for ax in [ax1,ax2]:\n",
    "    ax.set_xticklabels(np.arange(0,4))"
   ]
  }
 ],
 "metadata": {
  "kernelspec": {
   "display_name": "Python 3",
   "language": "python",
   "name": "python3"
  },
  "language_info": {
   "codemirror_mode": {
    "name": "ipython",
    "version": 3
   },
   "file_extension": ".py",
   "mimetype": "text/x-python",
   "name": "python",
   "nbconvert_exporter": "python",
   "pygments_lexer": "ipython3",
   "version": "3.8.3"
  }
 },
 "nbformat": 4,
 "nbformat_minor": 4
}
